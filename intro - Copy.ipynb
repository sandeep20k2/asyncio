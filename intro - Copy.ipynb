{
 "cells": [
  {
   "cell_type": "code",
   "execution_count": 33,
   "metadata": {},
   "outputs": [],
   "source": [
    "import pandas as pd"
   ]
  },
  {
   "cell_type": "markdown",
   "metadata": {},
   "source": [
    "- **call_df** has telephonic record from 26th May to 27th May\n",
    "- **lead_df** has lead created data  `Lead Management --> Get lead by Date Range`  from 26th May to 27th May"
   ]
  },
  {
   "cell_type": "code",
   "execution_count": 34,
   "metadata": {},
   "outputs": [],
   "source": [
    "call_df = pd.read_csv(\"./data/call_records_2627.csv\")\n",
    "lead_df = pd.read_csv(\"./data/lsq_2527.csv\")"
   ]
  },
  {
   "cell_type": "code",
   "execution_count": 35,
   "metadata": {},
   "outputs": [
    {
     "data": {
      "text/html": [
       "<div>\n",
       "<style scoped>\n",
       "    .dataframe tbody tr th:only-of-type {\n",
       "        vertical-align: middle;\n",
       "    }\n",
       "\n",
       "    .dataframe tbody tr th {\n",
       "        vertical-align: top;\n",
       "    }\n",
       "\n",
       "    .dataframe thead th {\n",
       "        text-align: right;\n",
       "    }\n",
       "</style>\n",
       "<table border=\"1\" class=\"dataframe\">\n",
       "  <thead>\n",
       "    <tr style=\"text-align: right;\">\n",
       "      <th></th>\n",
       "      <th>EntryId</th>\n",
       "      <th>LeadContactNum</th>\n",
       "      <th>StartTime</th>\n",
       "      <th>EndTime</th>\n",
       "      <th>CallType</th>\n",
       "      <th>Duration</th>\n",
       "      <th>Disposition</th>\n",
       "      <th>_SkillId</th>\n",
       "      <th>_AgentSip</th>\n",
       "      <th>IsAddedByAiSvc</th>\n",
       "      <th>_Param1</th>\n",
       "      <th>QueueType</th>\n",
       "      <th>QueueId</th>\n",
       "    </tr>\n",
       "  </thead>\n",
       "  <tbody>\n",
       "    <tr>\n",
       "      <th>0</th>\n",
       "      <td>d956ae70-9f5e-48cb-ac37-f334a0f9251d</td>\n",
       "      <td>8008746597</td>\n",
       "      <td>1716611429</td>\n",
       "      <td>1716611433</td>\n",
       "      <td>OUTBOUND</td>\n",
       "      <td>22</td>\n",
       "      <td>LeadCallDisposition.NOANSWER</td>\n",
       "      <td>7272.0</td>\n",
       "      <td>15799</td>\n",
       "      <td>False</td>\n",
       "      <td>Autodialer</td>\n",
       "      <td>CallQueueType.GENERICQUEUE</td>\n",
       "      <td>7272</td>\n",
       "    </tr>\n",
       "    <tr>\n",
       "      <th>1</th>\n",
       "      <td>52a4b652-f41d-434c-b388-c07fe05ceb97</td>\n",
       "      <td>9355400044</td>\n",
       "      <td>1716611407</td>\n",
       "      <td>1716611438</td>\n",
       "      <td>OUTBOUND</td>\n",
       "      <td>31</td>\n",
       "      <td>LeadCallDisposition.NOANSWER</td>\n",
       "      <td>7272.0</td>\n",
       "      <td>16837</td>\n",
       "      <td>False</td>\n",
       "      <td>Autodialer</td>\n",
       "      <td>CallQueueType.GENERICQUEUE</td>\n",
       "      <td>7272</td>\n",
       "    </tr>\n",
       "    <tr>\n",
       "      <th>2</th>\n",
       "      <td>d81b83b7-58aa-4038-b37b-ec44982c3dc8</td>\n",
       "      <td>8008746597</td>\n",
       "      <td>1716611433</td>\n",
       "      <td>1716611443</td>\n",
       "      <td>OUTBOUND</td>\n",
       "      <td>34</td>\n",
       "      <td>LeadCallDisposition.NOANSWER</td>\n",
       "      <td>7272.0</td>\n",
       "      <td>16836</td>\n",
       "      <td>False</td>\n",
       "      <td>Autodialer</td>\n",
       "      <td>CallQueueType.GENERICQUEUE</td>\n",
       "      <td>7272</td>\n",
       "    </tr>\n",
       "    <tr>\n",
       "      <th>3</th>\n",
       "      <td>6bc3248a-1e0d-49e9-a369-738d4f8e7cf5</td>\n",
       "      <td>9676091096</td>\n",
       "      <td>1716611426</td>\n",
       "      <td>1716611453</td>\n",
       "      <td>OUTBOUND</td>\n",
       "      <td>49</td>\n",
       "      <td>LeadCallDisposition.ANSWER</td>\n",
       "      <td>NaN</td>\n",
       "      <td>15798</td>\n",
       "      <td>False</td>\n",
       "      <td>autodialerfollowup</td>\n",
       "      <td>CallQueueType.AGENTQUEUE</td>\n",
       "      <td>15798</td>\n",
       "    </tr>\n",
       "    <tr>\n",
       "      <th>4</th>\n",
       "      <td>7d99020a-8a89-4bc8-9580-5d480e95a16a</td>\n",
       "      <td>9652196271</td>\n",
       "      <td>1716611457</td>\n",
       "      <td>1716611460</td>\n",
       "      <td>OUTBOUND</td>\n",
       "      <td>15</td>\n",
       "      <td>LeadCallDisposition.NOANSWER</td>\n",
       "      <td>7272.0</td>\n",
       "      <td>15799</td>\n",
       "      <td>False</td>\n",
       "      <td>Autodialer</td>\n",
       "      <td>CallQueueType.GENERICQUEUE</td>\n",
       "      <td>7272</td>\n",
       "    </tr>\n",
       "  </tbody>\n",
       "</table>\n",
       "</div>"
      ],
      "text/plain": [
       "                                EntryId  LeadContactNum   StartTime  \\\n",
       "0  d956ae70-9f5e-48cb-ac37-f334a0f9251d      8008746597  1716611429   \n",
       "1  52a4b652-f41d-434c-b388-c07fe05ceb97      9355400044  1716611407   \n",
       "2  d81b83b7-58aa-4038-b37b-ec44982c3dc8      8008746597  1716611433   \n",
       "3  6bc3248a-1e0d-49e9-a369-738d4f8e7cf5      9676091096  1716611426   \n",
       "4  7d99020a-8a89-4bc8-9580-5d480e95a16a      9652196271  1716611457   \n",
       "\n",
       "      EndTime  CallType  Duration                   Disposition  _SkillId  \\\n",
       "0  1716611433  OUTBOUND        22  LeadCallDisposition.NOANSWER    7272.0   \n",
       "1  1716611438  OUTBOUND        31  LeadCallDisposition.NOANSWER    7272.0   \n",
       "2  1716611443  OUTBOUND        34  LeadCallDisposition.NOANSWER    7272.0   \n",
       "3  1716611453  OUTBOUND        49    LeadCallDisposition.ANSWER       NaN   \n",
       "4  1716611460  OUTBOUND        15  LeadCallDisposition.NOANSWER    7272.0   \n",
       "\n",
       "   _AgentSip  IsAddedByAiSvc             _Param1                   QueueType  \\\n",
       "0      15799           False          Autodialer  CallQueueType.GENERICQUEUE   \n",
       "1      16837           False          Autodialer  CallQueueType.GENERICQUEUE   \n",
       "2      16836           False          Autodialer  CallQueueType.GENERICQUEUE   \n",
       "3      15798           False  autodialerfollowup    CallQueueType.AGENTQUEUE   \n",
       "4      15799           False          Autodialer  CallQueueType.GENERICQUEUE   \n",
       "\n",
       "   QueueId  \n",
       "0     7272  \n",
       "1     7272  \n",
       "2     7272  \n",
       "3    15798  \n",
       "4     7272  "
      ]
     },
     "execution_count": 35,
     "metadata": {},
     "output_type": "execute_result"
    }
   ],
   "source": [
    "call_df.head()"
   ]
  },
  {
   "cell_type": "markdown",
   "metadata": {},
   "source": [
    "- We have extracted only the email address, mobile , and created time of a lead."
   ]
  },
  {
   "cell_type": "code",
   "execution_count": 36,
   "metadata": {},
   "outputs": [
    {
     "data": {
      "text/html": [
       "<div>\n",
       "<style scoped>\n",
       "    .dataframe tbody tr th:only-of-type {\n",
       "        vertical-align: middle;\n",
       "    }\n",
       "\n",
       "    .dataframe tbody tr th {\n",
       "        vertical-align: top;\n",
       "    }\n",
       "\n",
       "    .dataframe thead th {\n",
       "        text-align: right;\n",
       "    }\n",
       "</style>\n",
       "<table border=\"1\" class=\"dataframe\">\n",
       "  <thead>\n",
       "    <tr style=\"text-align: right;\">\n",
       "      <th></th>\n",
       "      <th>EmailAddress</th>\n",
       "      <th>Phone</th>\n",
       "      <th>CreatedOn</th>\n",
       "    </tr>\n",
       "  </thead>\n",
       "  <tbody>\n",
       "    <tr>\n",
       "      <th>0</th>\n",
       "      <td>maryankitha50954@gmail.com</td>\n",
       "      <td>+91-7989972999</td>\n",
       "      <td>2024-05-27 17:25:23.000</td>\n",
       "    </tr>\n",
       "    <tr>\n",
       "      <th>1</th>\n",
       "      <td>vinay976@gmail.com</td>\n",
       "      <td>+91-8919326475</td>\n",
       "      <td>2024-05-27 12:28:29.000</td>\n",
       "    </tr>\n",
       "    <tr>\n",
       "      <th>2</th>\n",
       "      <td>appalarajukorada69@gmail.com</td>\n",
       "      <td>+91-9160601108</td>\n",
       "      <td>2024-05-27 11:44:46.000</td>\n",
       "    </tr>\n",
       "    <tr>\n",
       "      <th>3</th>\n",
       "      <td>siddipoguprasangi@gmail.com</td>\n",
       "      <td>+91-9182113317</td>\n",
       "      <td>2024-05-27 11:17:19.000</td>\n",
       "    </tr>\n",
       "    <tr>\n",
       "      <th>4</th>\n",
       "      <td>gvreddyjillella@gmail.com</td>\n",
       "      <td>+91-9441733913</td>\n",
       "      <td>2024-05-27 11:04:29.000</td>\n",
       "    </tr>\n",
       "  </tbody>\n",
       "</table>\n",
       "</div>"
      ],
      "text/plain": [
       "                   EmailAddress           Phone                CreatedOn\n",
       "0    maryankitha50954@gmail.com  +91-7989972999  2024-05-27 17:25:23.000\n",
       "1            vinay976@gmail.com  +91-8919326475  2024-05-27 12:28:29.000\n",
       "2  appalarajukorada69@gmail.com  +91-9160601108  2024-05-27 11:44:46.000\n",
       "3   siddipoguprasangi@gmail.com  +91-9182113317  2024-05-27 11:17:19.000\n",
       "4     gvreddyjillella@gmail.com  +91-9441733913  2024-05-27 11:04:29.000"
      ]
     },
     "execution_count": 36,
     "metadata": {},
     "output_type": "execute_result"
    }
   ],
   "source": [
    "lead_df.head()"
   ]
  },
  {
   "cell_type": "code",
   "execution_count": 37,
   "metadata": {},
   "outputs": [
    {
     "data": {
      "text/plain": [
       "1029"
      ]
     },
     "execution_count": 37,
     "metadata": {},
     "output_type": "execute_result"
    }
   ],
   "source": [
    "len(call_df[\"LeadContactNum\"].unique())"
   ]
  },
  {
   "cell_type": "code",
   "execution_count": 38,
   "metadata": {},
   "outputs": [
    {
     "data": {
      "text/plain": [
       "100"
      ]
     },
     "execution_count": 38,
     "metadata": {},
     "output_type": "execute_result"
    }
   ],
   "source": [
    "len(lead_df[\"Phone\"].unique())"
   ]
  },
  {
   "cell_type": "code",
   "execution_count": 39,
   "metadata": {},
   "outputs": [
    {
     "data": {
      "text/plain": [
       "(100, 3819)"
      ]
     },
     "execution_count": 39,
     "metadata": {},
     "output_type": "execute_result"
    }
   ],
   "source": [
    "len(lead_df), len(call_df)"
   ]
  },
  {
   "cell_type": "code",
   "execution_count": 40,
   "metadata": {},
   "outputs": [],
   "source": [
    "def clean_phone(num:str)->int:\n",
    "    \"\"\"\n",
    "    Description:\n",
    "        This function get the mobile number of format +91-xxxxxxxxxx and then extract only the actual number.\n",
    "    Returns:\n",
    "        Mobile number\n",
    "    \"\"\"\n",
    "    return int(num.split(\"-\")[1])"
   ]
  },
  {
   "cell_type": "code",
   "execution_count": 41,
   "metadata": {},
   "outputs": [],
   "source": [
    "lead_df[\"Phone\"] = lead_df[\"Phone\"].apply(clean_phone)"
   ]
  },
  {
   "cell_type": "markdown",
   "metadata": {},
   "source": [
    "- We do inner join to filter records from call_df that matches the fresh leads from lead_df."
   ]
  },
  {
   "cell_type": "code",
   "execution_count": 42,
   "metadata": {},
   "outputs": [],
   "source": [
    "df = pd.merge(call_df, lead_df, left_on=\"LeadContactNum\", right_on=\"Phone\", how=\"inner\")"
   ]
  },
  {
   "cell_type": "markdown",
   "metadata": {},
   "source": [
    "- We consider the Start time from call_df as the LeadContact time."
   ]
  },
  {
   "cell_type": "code",
   "execution_count": 43,
   "metadata": {},
   "outputs": [],
   "source": [
    "df[\"LeadContactedDate\"] = pd.to_datetime(df[\"StartTime\"], unit=\"s\")"
   ]
  },
  {
   "cell_type": "code",
   "execution_count": 44,
   "metadata": {},
   "outputs": [],
   "source": [
    "df[\"LeadGeneratedDate\"] = pd.to_datetime(df[\"CreatedOn\"])"
   ]
  },
  {
   "cell_type": "code",
   "execution_count": 45,
   "metadata": {},
   "outputs": [
    {
     "data": {
      "text/plain": [
       "Index(['EntryId', 'LeadContactNum', 'StartTime', 'EndTime', 'CallType',\n",
       "       'Duration', 'Disposition', '_SkillId', '_AgentSip', 'IsAddedByAiSvc',\n",
       "       '_Param1', 'QueueType', 'QueueId', 'EmailAddress', 'Phone', 'CreatedOn',\n",
       "       'LeadContactedDate', 'LeadGeneratedDate'],\n",
       "      dtype='object')"
      ]
     },
     "execution_count": 45,
     "metadata": {},
     "output_type": "execute_result"
    }
   ],
   "source": [
    "df.columns"
   ]
  },
  {
   "cell_type": "markdown",
   "metadata": {},
   "source": [
    "- Proceed with only the necessary columns `[\"Phone\",\"LeadGeneratedDate\", \"LeadContactedDate\"]`"
   ]
  },
  {
   "cell_type": "code",
   "execution_count": 46,
   "metadata": {},
   "outputs": [],
   "source": [
    "df1 = df[[\"Phone\",\"LeadGeneratedDate\", \"LeadContactedDate\"]]"
   ]
  },
  {
   "cell_type": "markdown",
   "metadata": {},
   "source": [
    "- Sort based on `LeadContactedDate`"
   ]
  },
  {
   "cell_type": "code",
   "execution_count": 47,
   "metadata": {},
   "outputs": [],
   "source": [
    "df1_sorted = df1.sort_values(by=[\"Phone\", \"LeadContactedDate\"], ascending=True)"
   ]
  },
  {
   "cell_type": "markdown",
   "metadata": {},
   "source": [
    "- We then, filter only the first record for each unique mobile number."
   ]
  },
  {
   "cell_type": "code",
   "execution_count": 48,
   "metadata": {},
   "outputs": [],
   "source": [
    "df1_first_contact = df1_sorted.groupby(\"Phone\").first().reset_index()"
   ]
  },
  {
   "cell_type": "code",
   "execution_count": 49,
   "metadata": {},
   "outputs": [
    {
     "data": {
      "text/html": [
       "<div>\n",
       "<style scoped>\n",
       "    .dataframe tbody tr th:only-of-type {\n",
       "        vertical-align: middle;\n",
       "    }\n",
       "\n",
       "    .dataframe tbody tr th {\n",
       "        vertical-align: top;\n",
       "    }\n",
       "\n",
       "    .dataframe thead th {\n",
       "        text-align: right;\n",
       "    }\n",
       "</style>\n",
       "<table border=\"1\" class=\"dataframe\">\n",
       "  <thead>\n",
       "    <tr style=\"text-align: right;\">\n",
       "      <th></th>\n",
       "      <th>Phone</th>\n",
       "      <th>LeadGeneratedDate</th>\n",
       "      <th>LeadContactedDate</th>\n",
       "    </tr>\n",
       "  </thead>\n",
       "  <tbody>\n",
       "    <tr>\n",
       "      <th>0</th>\n",
       "      <td>6303172479</td>\n",
       "      <td>2024-05-26 12:18:30</td>\n",
       "      <td>2024-05-26 12:16:27</td>\n",
       "    </tr>\n",
       "    <tr>\n",
       "      <th>1</th>\n",
       "      <td>7702839986</td>\n",
       "      <td>2024-05-26 13:16:53</td>\n",
       "      <td>2024-05-26 13:18:27</td>\n",
       "    </tr>\n",
       "    <tr>\n",
       "      <th>2</th>\n",
       "      <td>7842271433</td>\n",
       "      <td>2024-05-26 13:23:34</td>\n",
       "      <td>2024-05-26 13:25:25</td>\n",
       "    </tr>\n",
       "    <tr>\n",
       "      <th>3</th>\n",
       "      <td>8179770890</td>\n",
       "      <td>2024-05-26 13:10:22</td>\n",
       "      <td>2024-05-26 13:12:28</td>\n",
       "    </tr>\n",
       "    <tr>\n",
       "      <th>4</th>\n",
       "      <td>8297575002</td>\n",
       "      <td>2024-05-26 13:46:32</td>\n",
       "      <td>2024-05-26 13:47:46</td>\n",
       "    </tr>\n",
       "    <tr>\n",
       "      <th>5</th>\n",
       "      <td>8466993241</td>\n",
       "      <td>2024-05-26 12:16:22</td>\n",
       "      <td>2024-05-26 12:17:57</td>\n",
       "    </tr>\n",
       "    <tr>\n",
       "      <th>6</th>\n",
       "      <td>8790283833</td>\n",
       "      <td>2024-05-26 14:03:12</td>\n",
       "      <td>2024-05-26 14:04:57</td>\n",
       "    </tr>\n",
       "    <tr>\n",
       "      <th>7</th>\n",
       "      <td>8886426215</td>\n",
       "      <td>2024-05-26 12:47:30</td>\n",
       "      <td>2024-05-26 12:48:47</td>\n",
       "    </tr>\n",
       "    <tr>\n",
       "      <th>8</th>\n",
       "      <td>8919134502</td>\n",
       "      <td>2024-05-26 12:58:09</td>\n",
       "      <td>2024-05-26 12:59:39</td>\n",
       "    </tr>\n",
       "    <tr>\n",
       "      <th>9</th>\n",
       "      <td>9392730826</td>\n",
       "      <td>2024-05-26 13:17:14</td>\n",
       "      <td>2024-05-26 13:17:00</td>\n",
       "    </tr>\n",
       "    <tr>\n",
       "      <th>10</th>\n",
       "      <td>9441202208</td>\n",
       "      <td>2024-05-26 13:18:37</td>\n",
       "      <td>2024-05-26 13:21:29</td>\n",
       "    </tr>\n",
       "    <tr>\n",
       "      <th>11</th>\n",
       "      <td>9494883268</td>\n",
       "      <td>2024-05-26 13:16:40</td>\n",
       "      <td>2024-05-26 13:11:09</td>\n",
       "    </tr>\n",
       "    <tr>\n",
       "      <th>12</th>\n",
       "      <td>9652941561</td>\n",
       "      <td>2024-05-26 12:21:13</td>\n",
       "      <td>2024-05-26 12:22:43</td>\n",
       "    </tr>\n",
       "    <tr>\n",
       "      <th>13</th>\n",
       "      <td>9848832964</td>\n",
       "      <td>2024-05-26 17:24:06</td>\n",
       "      <td>2024-05-26 17:24:10</td>\n",
       "    </tr>\n",
       "    <tr>\n",
       "      <th>14</th>\n",
       "      <td>9948858772</td>\n",
       "      <td>2024-05-26 13:23:48</td>\n",
       "      <td>2024-05-26 13:16:46</td>\n",
       "    </tr>\n",
       "    <tr>\n",
       "      <th>15</th>\n",
       "      <td>9959917828</td>\n",
       "      <td>2024-05-26 13:07:08</td>\n",
       "      <td>2024-05-26 13:09:11</td>\n",
       "    </tr>\n",
       "    <tr>\n",
       "      <th>16</th>\n",
       "      <td>9985033143</td>\n",
       "      <td>2024-05-26 13:10:14</td>\n",
       "      <td>2024-05-26 13:10:10</td>\n",
       "    </tr>\n",
       "  </tbody>\n",
       "</table>\n",
       "</div>"
      ],
      "text/plain": [
       "         Phone   LeadGeneratedDate   LeadContactedDate\n",
       "0   6303172479 2024-05-26 12:18:30 2024-05-26 12:16:27\n",
       "1   7702839986 2024-05-26 13:16:53 2024-05-26 13:18:27\n",
       "2   7842271433 2024-05-26 13:23:34 2024-05-26 13:25:25\n",
       "3   8179770890 2024-05-26 13:10:22 2024-05-26 13:12:28\n",
       "4   8297575002 2024-05-26 13:46:32 2024-05-26 13:47:46\n",
       "5   8466993241 2024-05-26 12:16:22 2024-05-26 12:17:57\n",
       "6   8790283833 2024-05-26 14:03:12 2024-05-26 14:04:57\n",
       "7   8886426215 2024-05-26 12:47:30 2024-05-26 12:48:47\n",
       "8   8919134502 2024-05-26 12:58:09 2024-05-26 12:59:39\n",
       "9   9392730826 2024-05-26 13:17:14 2024-05-26 13:17:00\n",
       "10  9441202208 2024-05-26 13:18:37 2024-05-26 13:21:29\n",
       "11  9494883268 2024-05-26 13:16:40 2024-05-26 13:11:09\n",
       "12  9652941561 2024-05-26 12:21:13 2024-05-26 12:22:43\n",
       "13  9848832964 2024-05-26 17:24:06 2024-05-26 17:24:10\n",
       "14  9948858772 2024-05-26 13:23:48 2024-05-26 13:16:46\n",
       "15  9959917828 2024-05-26 13:07:08 2024-05-26 13:09:11\n",
       "16  9985033143 2024-05-26 13:10:14 2024-05-26 13:10:10"
      ]
     },
     "execution_count": 49,
     "metadata": {},
     "output_type": "execute_result"
    }
   ],
   "source": [
    "df1_first_contact"
   ]
  },
  {
   "cell_type": "code",
   "execution_count": 61,
   "metadata": {},
   "outputs": [],
   "source": [
    "time_difference = df1_first_contact[\"LeadContactedDate\"]-df1_first_contact[\"LeadGeneratedDate\"]\n",
    "#time_difference = pd.to_timedelta(time_difference)"
   ]
  },
  {
   "cell_type": "code",
   "execution_count": 67,
   "metadata": {},
   "outputs": [
    {
     "data": {
      "text/plain": [
       "0    -3.0\n",
       "1     1.0\n",
       "2     1.0\n",
       "3     2.0\n",
       "4     1.0\n",
       "5     1.0\n",
       "6     1.0\n",
       "7     1.0\n",
       "8     1.0\n",
       "9    -1.0\n",
       "10    2.0\n",
       "11   -6.0\n",
       "12    1.0\n",
       "13    0.0\n",
       "14   -8.0\n",
       "15    2.0\n",
       "16   -1.0\n",
       "dtype: float64"
      ]
     },
     "execution_count": 67,
     "metadata": {},
     "output_type": "execute_result"
    }
   ],
   "source": [
    "time_difference.dt.total_seconds()//60\n",
    "time_difference.dt.total_seconds()%60\n"
   ]
  },
  {
   "cell_type": "code",
   "execution_count": 73,
   "metadata": {},
   "outputs": [],
   "source": [
    "def to_minutes_seconds(time_difference)->str:\n",
    "  \"\"\"\n",
    "  Description: \n",
    "    Convert the time difference into minutes and seconds.\n",
    "  Returns:\n",
    "    Minutes and Seconds\n",
    "  \n",
    "  \"\"\"\n",
    "  res_time = list()\n",
    "  total_seconds= time_difference.dt.total_seconds()\n",
    "  for record in total_seconds:\n",
    "    minutes = record//60  # Extract minutes\n",
    "    seconds = record%60  # Extract seconds \n",
    "    res_time.append(f\"{minutes} mins {seconds} secs\")\n",
    "\n",
    "  return res_time"
   ]
  },
  {
   "cell_type": "code",
   "execution_count": 75,
   "metadata": {},
   "outputs": [],
   "source": [
    "df1_first_contact[\"LeadResponseTime\"] = to_minutes_seconds(time_difference)"
   ]
  },
  {
   "cell_type": "code",
   "execution_count": 76,
   "metadata": {},
   "outputs": [
    {
     "data": {
      "text/html": [
       "<div>\n",
       "<style scoped>\n",
       "    .dataframe tbody tr th:only-of-type {\n",
       "        vertical-align: middle;\n",
       "    }\n",
       "\n",
       "    .dataframe tbody tr th {\n",
       "        vertical-align: top;\n",
       "    }\n",
       "\n",
       "    .dataframe thead th {\n",
       "        text-align: right;\n",
       "    }\n",
       "</style>\n",
       "<table border=\"1\" class=\"dataframe\">\n",
       "  <thead>\n",
       "    <tr style=\"text-align: right;\">\n",
       "      <th></th>\n",
       "      <th>Phone</th>\n",
       "      <th>LeadGeneratedDate</th>\n",
       "      <th>LeadContactedDate</th>\n",
       "      <th>LeadResponseTime</th>\n",
       "    </tr>\n",
       "  </thead>\n",
       "  <tbody>\n",
       "    <tr>\n",
       "      <th>0</th>\n",
       "      <td>6303172479</td>\n",
       "      <td>2024-05-26 12:18:30</td>\n",
       "      <td>2024-05-26 12:16:27</td>\n",
       "      <td>-3.0 mins 57.0 secs</td>\n",
       "    </tr>\n",
       "    <tr>\n",
       "      <th>1</th>\n",
       "      <td>7702839986</td>\n",
       "      <td>2024-05-26 13:16:53</td>\n",
       "      <td>2024-05-26 13:18:27</td>\n",
       "      <td>1.0 mins 34.0 secs</td>\n",
       "    </tr>\n",
       "    <tr>\n",
       "      <th>2</th>\n",
       "      <td>7842271433</td>\n",
       "      <td>2024-05-26 13:23:34</td>\n",
       "      <td>2024-05-26 13:25:25</td>\n",
       "      <td>1.0 mins 51.0 secs</td>\n",
       "    </tr>\n",
       "    <tr>\n",
       "      <th>3</th>\n",
       "      <td>8179770890</td>\n",
       "      <td>2024-05-26 13:10:22</td>\n",
       "      <td>2024-05-26 13:12:28</td>\n",
       "      <td>2.0 mins 6.0 secs</td>\n",
       "    </tr>\n",
       "    <tr>\n",
       "      <th>4</th>\n",
       "      <td>8297575002</td>\n",
       "      <td>2024-05-26 13:46:32</td>\n",
       "      <td>2024-05-26 13:47:46</td>\n",
       "      <td>1.0 mins 14.0 secs</td>\n",
       "    </tr>\n",
       "    <tr>\n",
       "      <th>5</th>\n",
       "      <td>8466993241</td>\n",
       "      <td>2024-05-26 12:16:22</td>\n",
       "      <td>2024-05-26 12:17:57</td>\n",
       "      <td>1.0 mins 35.0 secs</td>\n",
       "    </tr>\n",
       "    <tr>\n",
       "      <th>6</th>\n",
       "      <td>8790283833</td>\n",
       "      <td>2024-05-26 14:03:12</td>\n",
       "      <td>2024-05-26 14:04:57</td>\n",
       "      <td>1.0 mins 45.0 secs</td>\n",
       "    </tr>\n",
       "    <tr>\n",
       "      <th>7</th>\n",
       "      <td>8886426215</td>\n",
       "      <td>2024-05-26 12:47:30</td>\n",
       "      <td>2024-05-26 12:48:47</td>\n",
       "      <td>1.0 mins 17.0 secs</td>\n",
       "    </tr>\n",
       "    <tr>\n",
       "      <th>8</th>\n",
       "      <td>8919134502</td>\n",
       "      <td>2024-05-26 12:58:09</td>\n",
       "      <td>2024-05-26 12:59:39</td>\n",
       "      <td>1.0 mins 30.0 secs</td>\n",
       "    </tr>\n",
       "    <tr>\n",
       "      <th>9</th>\n",
       "      <td>9392730826</td>\n",
       "      <td>2024-05-26 13:17:14</td>\n",
       "      <td>2024-05-26 13:17:00</td>\n",
       "      <td>-1.0 mins 46.0 secs</td>\n",
       "    </tr>\n",
       "    <tr>\n",
       "      <th>10</th>\n",
       "      <td>9441202208</td>\n",
       "      <td>2024-05-26 13:18:37</td>\n",
       "      <td>2024-05-26 13:21:29</td>\n",
       "      <td>2.0 mins 52.0 secs</td>\n",
       "    </tr>\n",
       "    <tr>\n",
       "      <th>11</th>\n",
       "      <td>9494883268</td>\n",
       "      <td>2024-05-26 13:16:40</td>\n",
       "      <td>2024-05-26 13:11:09</td>\n",
       "      <td>-6.0 mins 29.0 secs</td>\n",
       "    </tr>\n",
       "    <tr>\n",
       "      <th>12</th>\n",
       "      <td>9652941561</td>\n",
       "      <td>2024-05-26 12:21:13</td>\n",
       "      <td>2024-05-26 12:22:43</td>\n",
       "      <td>1.0 mins 30.0 secs</td>\n",
       "    </tr>\n",
       "    <tr>\n",
       "      <th>13</th>\n",
       "      <td>9848832964</td>\n",
       "      <td>2024-05-26 17:24:06</td>\n",
       "      <td>2024-05-26 17:24:10</td>\n",
       "      <td>0.0 mins 4.0 secs</td>\n",
       "    </tr>\n",
       "    <tr>\n",
       "      <th>14</th>\n",
       "      <td>9948858772</td>\n",
       "      <td>2024-05-26 13:23:48</td>\n",
       "      <td>2024-05-26 13:16:46</td>\n",
       "      <td>-8.0 mins 58.0 secs</td>\n",
       "    </tr>\n",
       "    <tr>\n",
       "      <th>15</th>\n",
       "      <td>9959917828</td>\n",
       "      <td>2024-05-26 13:07:08</td>\n",
       "      <td>2024-05-26 13:09:11</td>\n",
       "      <td>2.0 mins 3.0 secs</td>\n",
       "    </tr>\n",
       "    <tr>\n",
       "      <th>16</th>\n",
       "      <td>9985033143</td>\n",
       "      <td>2024-05-26 13:10:14</td>\n",
       "      <td>2024-05-26 13:10:10</td>\n",
       "      <td>-1.0 mins 56.0 secs</td>\n",
       "    </tr>\n",
       "  </tbody>\n",
       "</table>\n",
       "</div>"
      ],
      "text/plain": [
       "         Phone   LeadGeneratedDate   LeadContactedDate     LeadResponseTime\n",
       "0   6303172479 2024-05-26 12:18:30 2024-05-26 12:16:27  -3.0 mins 57.0 secs\n",
       "1   7702839986 2024-05-26 13:16:53 2024-05-26 13:18:27   1.0 mins 34.0 secs\n",
       "2   7842271433 2024-05-26 13:23:34 2024-05-26 13:25:25   1.0 mins 51.0 secs\n",
       "3   8179770890 2024-05-26 13:10:22 2024-05-26 13:12:28    2.0 mins 6.0 secs\n",
       "4   8297575002 2024-05-26 13:46:32 2024-05-26 13:47:46   1.0 mins 14.0 secs\n",
       "5   8466993241 2024-05-26 12:16:22 2024-05-26 12:17:57   1.0 mins 35.0 secs\n",
       "6   8790283833 2024-05-26 14:03:12 2024-05-26 14:04:57   1.0 mins 45.0 secs\n",
       "7   8886426215 2024-05-26 12:47:30 2024-05-26 12:48:47   1.0 mins 17.0 secs\n",
       "8   8919134502 2024-05-26 12:58:09 2024-05-26 12:59:39   1.0 mins 30.0 secs\n",
       "9   9392730826 2024-05-26 13:17:14 2024-05-26 13:17:00  -1.0 mins 46.0 secs\n",
       "10  9441202208 2024-05-26 13:18:37 2024-05-26 13:21:29   2.0 mins 52.0 secs\n",
       "11  9494883268 2024-05-26 13:16:40 2024-05-26 13:11:09  -6.0 mins 29.0 secs\n",
       "12  9652941561 2024-05-26 12:21:13 2024-05-26 12:22:43   1.0 mins 30.0 secs\n",
       "13  9848832964 2024-05-26 17:24:06 2024-05-26 17:24:10    0.0 mins 4.0 secs\n",
       "14  9948858772 2024-05-26 13:23:48 2024-05-26 13:16:46  -8.0 mins 58.0 secs\n",
       "15  9959917828 2024-05-26 13:07:08 2024-05-26 13:09:11    2.0 mins 3.0 secs\n",
       "16  9985033143 2024-05-26 13:10:14 2024-05-26 13:10:10  -1.0 mins 56.0 secs"
      ]
     },
     "execution_count": 76,
     "metadata": {},
     "output_type": "execute_result"
    }
   ],
   "source": [
    "df1_first_contact"
   ]
  },
  {
   "cell_type": "code",
   "execution_count": null,
   "metadata": {},
   "outputs": [],
   "source": []
  }
 ],
 "metadata": {
  "kernelspec": {
   "display_name": "Python 3",
   "language": "python",
   "name": "python3"
  },
  "language_info": {
   "codemirror_mode": {
    "name": "ipython",
    "version": 3
   },
   "file_extension": ".py",
   "mimetype": "text/x-python",
   "name": "python",
   "nbconvert_exporter": "python",
   "pygments_lexer": "ipython3",
   "version": "3.9.19"
  }
 },
 "nbformat": 4,
 "nbformat_minor": 2
}
